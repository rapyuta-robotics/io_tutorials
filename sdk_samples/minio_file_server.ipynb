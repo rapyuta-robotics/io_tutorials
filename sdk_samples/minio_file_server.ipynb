{
 "cells": [
  {
   "cell_type": "markdown",
   "metadata": {},
   "source": [
    "### rapyuta.io SDK minio file-server example.\n",
    "Deploy minio file server to rapyuta.io\n",
    "\n",
    "ojb-store-deployment-tutorial: https://userdocs.rapyuta.io/developer-guide/create-software-packages/persistent-storage/obj-store-deployment-tutorial/\n",
    "\n",
    "SDK doc: https://docs.rapyuta.io/python-sdk/"
   ]
  },
  {
   "cell_type": "markdown",
   "metadata": {},
   "source": [
    "#### 1.Auth, Parameter and File psths.\n",
    "you can get auth from rapyuta.io console\n",
    "\n",
    "SDK auth token:https://userdocs.rapyuta.io/developer-guide/tooling-automation/python-sdk/sdk-tokens-parameters/"
   ]
  },
  {
   "cell_type": "code",
   "execution_count": null,
   "metadata": {},
   "outputs": [],
   "source": [
    "AUTH_TOKEN = ''\n",
    "PROJECT_ID = ''\n",
    "\n",
    "#params\n",
    "retry_count=90\n",
    "interval=10\n",
    "minio_params = {\n",
    "    'MINIO_ACCESS_KEY': 'rapyuta123',\n",
    "    'MINIO_SECRET_KEY': 'rapyuta123'\n",
    "}\n",
    "\n",
    "#file paths of package manifests\n",
    "base_path = '../io_manifests/'\n",
    "minio_manifest = 'minio_file_server_manifest.json'"
   ]
  },
  {
   "cell_type": "markdown",
   "metadata": {},
   "source": [
    "#### 2. import module and create Client Instance"
   ]
  },
  {
   "cell_type": "code",
   "execution_count": null,
   "metadata": {},
   "outputs": [],
   "source": [
    "from rapyuta_io import Client, DeploymentPhaseConstants, DiskType\n",
    "\n",
    "client = Client(AUTH_TOKEN, PROJECT_ID)"
   ]
  },
  {
   "cell_type": "markdown",
   "metadata": {},
   "source": [
    "#### 3. Create package"
   ]
  },
  {
   "cell_type": "code",
   "execution_count": null,
   "metadata": {},
   "outputs": [],
   "source": [
    "import os\n",
    "import json\n",
    "import time\n",
    "from pprint import pprint\n",
    "\n",
    "def create_package(file_path, packages):\n",
    "    json_data = open(file_path, 'r')\n",
    "    json_load = json.load(json_data)\n",
    "    package_id = None\n",
    "    for package in packages:\n",
    "        if package['packageName'] == json_load['name'] and  \\\n",
    "           package['packageVersion'] == json_load['packageVersion']:\n",
    "            package_id = package['packageId']\n",
    "            break\n",
    "    if not package_id:\n",
    "        res = client.create_package(json_load, retry_limit=3)\n",
    "        print(json_load['name'] + json_load['packageVersion'] + ' was created')\n",
    "        package_id = res['packageId']\n",
    "    else :\n",
    "        print(json_load['name'] + json_load['packageVersion'] + ' exist')\n",
    "    \n",
    "    return package_id\n",
    "\n",
    "def get_plan_id(pakcage_id, index=0):\n",
    "    pack = client.get_package(pakcage_id)\n",
    "    return pack['plans'][index]['planId']\n",
    "\n",
    "def get_ids(base_path, manifest, packages):\n",
    "    file_path = os.path.join(base_path, manifest)\n",
    "    package_id = create_package(file_path, packages)\n",
    "    plan_id = get_plan_id(package_id) \n",
    "    return {\n",
    "        'packageId': package_id,\n",
    "        'planId': plan_id        \n",
    "    }\n",
    "\n",
    "packages = client.get_all_packages()\n",
    "# pprint(packages)\n",
    "\n",
    "minio_ids =    get_ids(base_path, minio_manifest     ,packages)    "
   ]
  },
  {
   "cell_type": "markdown",
   "metadata": {},
   "source": [
    "#### 4.Create persistent volume"
   ]
  },
  {
   "cell_type": "code",
   "execution_count": null,
   "metadata": {},
   "outputs": [],
   "source": [
    "volume = client.get_persistent_volume()\n",
    "volumes = volume.get_all_volume_instances()\n",
    "\n",
    "persistent_vol_deployment = None\n",
    "persistent_vol_name = 'persistent_vol_minio'\n",
    "for vol in volumes:\n",
    "    if vol['name'] == persistent_vol_name and vol['phase'] == 'Succeeded':\n",
    "        persistent_vol_deployment = volume.get_volume_instance(vol['deploymentId'])\n",
    "        print('Persistent Vol was found and will be used.')\n",
    "        break\n",
    "\n",
    "if not persistent_vol_deployment: \n",
    "    print ('Creating a new persistent volume deployment... ')\n",
    "    persistent_vol_deployment = volume.create_volume_instance(persistent_vol_name, 32, DiskType.SSD)\n",
    "    result = persistent_vol_deployment.poll_deployment_till_ready(retry_count=retry_count, sleep_interval=interval)\n",
    "    print ('Persistent Vol are created')"
   ]
  },
  {
   "cell_type": "markdown",
   "metadata": {},
   "source": [
    "#### 3.Deploy package"
   ]
  },
  {
   "cell_type": "code",
   "execution_count": null,
   "metadata": {},
   "outputs": [],
   "source": [
    "# Device Talker code snippet\n",
    "package = client.get_package(minio_ids['packageId'])\n",
    "configuration = package.get_provision_configuration(minio_ids['planId'])\n",
    "for key in minio_params:\n",
    "    configuration.add_parameter('MinIO_FS', key, minio_params[key])\n",
    "configuration.mount_volume(component_name='MinIO_FS',\n",
    "                           volume_instance=persistent_vol_deployment,\n",
    "                           mount_path=\"/data\")\n",
    "deployment = package.provision(deployment_name = 'minio-file-server',\n",
    "\t\t\t\t\t\tprovision_configuration = configuration)\n",
    "result = deployment.poll_deployment_till_ready(retry_count=retry_count, sleep_interval=interval)\n",
    "print 'Minio endpoint: ' + result['componentInfo'][0]['networkEndpoints']['FileStorage']"
   ]
  },
  {
   "cell_type": "code",
   "execution_count": null,
   "metadata": {},
   "outputs": [],
   "source": []
  },
  {
   "cell_type": "markdown",
   "metadata": {},
   "source": [
    "#### 4. Deprovison all"
   ]
  },
  {
   "cell_type": "code",
   "execution_count": null,
   "metadata": {},
   "outputs": [],
   "source": [
    "deployment.deprovision()"
   ]
  },
  {
   "cell_type": "code",
   "execution_count": null,
   "metadata": {},
   "outputs": [],
   "source": []
  }
 ],
 "metadata": {
  "kernelspec": {
   "display_name": "Python 2",
   "language": "python",
   "name": "python2"
  },
  "language_info": {
   "codemirror_mode": {
    "name": "ipython",
    "version": 2
   },
   "file_extension": ".py",
   "mimetype": "text/x-python",
   "name": "python",
   "nbconvert_exporter": "python",
   "pygments_lexer": "ipython2",
   "version": "2.7.17"
  }
 },
 "nbformat": 4,
 "nbformat_minor": 2
}
