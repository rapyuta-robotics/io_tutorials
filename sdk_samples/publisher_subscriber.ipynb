{
 "cells": [
  {
   "cell_type": "markdown",
   "metadata": {},
   "source": [
    "### rapyuta.io SDK publisher subscriber example.\n",
    "ROS topic communication between device and cloud instance with rapyuta.io\n",
    "In this example you can use the package created by publisher-subscirber tutorial.\n",
    "\n",
    "basic-ros-pubsub:\n",
    "\n",
    "preinstall: https://userdocs.rapyuta.io/build-solutions/sample-walkthroughs/basic-ros-pubsub/preinstalled-runtime/\n",
    "\n",
    "docker: https://userdocs.rapyuta.io/build-solutions/sample-walkthroughs/basic-ros-pubsub/docker-runtime/\n",
    "\n",
    "SDK doc: https://docs.rapyuta.io/python-sdk/"
   ]
  },
  {
   "cell_type": "markdown",
   "metadata": {},
   "source": [
    "#### 1.Auth, Parameter and File psths.\n",
    "you can get auth from rapyuta.io console\n",
    "\n",
    "SDK auth token:https://userdocs.rapyuta.io/developer-guide/tooling-automation/python-sdk/sdk-tokens-parameters/\n",
    "\n",
    "Device onboarding: https://userdocs.rapyuta.io/developer-guide/manage-machines/onboarding/"
   ]
  },
  {
   "cell_type": "code",
   "execution_count": null,
   "metadata": {},
   "outputs": [],
   "source": [
    "AUTH_TOKEN = ''\n",
    "PROJECT_ID = ''\n",
    "\n",
    "#params\n",
    "retry_count=90\n",
    "interval=10\n",
    "device_id = 'e20b04fb-8b2b-422d-9f74-37cd4db042cf'\n",
    "runtime = 'preinstalled'\n",
    "# runtime = 'docker'\n",
    "\n",
    "#file paths of package manifests\n",
    "base_path = '../io_manifests/basic_ros_publisher_subscriber'\n",
    "if runtime == 'preinstalled':\n",
    "    pubsub_manifest = 'preinstalled_ros_publisher_subscriber_manifest.json'\n",
    "elif runtime == 'docker':\n",
    "    pubsub_manifest = 'docker_publisher_subscriber_manifest.json'"
   ]
  },
  {
   "cell_type": "markdown",
   "metadata": {},
   "source": [
    "#### 2. import module and create Client Instance"
   ]
  },
  {
   "cell_type": "code",
   "execution_count": null,
   "metadata": {},
   "outputs": [],
   "source": [
    "from rapyuta_io import Client, DeploymentPhaseConstants, DiskType\n",
    "from rapyuta_io.clients.package import ROSDistro\n",
    "\n",
    "client = Client(AUTH_TOKEN, PROJECT_ID)"
   ]
  },
  {
   "cell_type": "markdown",
   "metadata": {},
   "source": [
    "#### 3. Create routed network"
   ]
  },
  {
   "cell_type": "code",
   "execution_count": null,
   "metadata": {},
   "outputs": [],
   "source": [
    "networks = client.get_all_routed_networks()\n",
    "network = None\n",
    "network_name = 'route_network'\n",
    "for net in networks:\n",
    "    if net.name == network_name and net.get_status().status == \"Running\":\n",
    "        network = net\n",
    "        print('route_network' + \" was found and will be used\")\n",
    "        break\n",
    "        \n",
    "if not network:\n",
    "    network = client.create_cloud_routed_network(network_name, ROSDistro.MELODIC, True)\n",
    "    network.poll_routed_network_till_ready(retry_count=retry_count, sleep_interval=interval)\n",
    "    print('route_network' + \"was created successfully\")\n",
    "\n",
    "routed_networks = [network]"
   ]
  },
  {
   "cell_type": "markdown",
   "metadata": {},
   "source": [
    "#### 3. Create package"
   ]
  },
  {
   "cell_type": "code",
   "execution_count": null,
   "metadata": {
    "scrolled": true
   },
   "outputs": [],
   "source": [
    "import os\n",
    "import json\n",
    "import time\n",
    "from pprint import pprint\n",
    "\n",
    "def create_package(file_path, packages):\n",
    "    json_data = open(file_path, 'r')\n",
    "    json_load = json.load(json_data)\n",
    "    package_id = None\n",
    "    for package in packages:\n",
    "        if package['packageName'] == json_load['name'] and  \\\n",
    "           package['packageVersion'] == json_load['packageVersion']:\n",
    "            package_id = package['packageId']\n",
    "            break\n",
    "    if not package_id:\n",
    "        res = client.create_package(json_load, retry_limit=3)\n",
    "        print(json_load['name'] + json_load['packageVersion'] + ' was created')\n",
    "        package_id = res['packageId']\n",
    "    else :\n",
    "        print(json_load['name'] + json_load['packageVersion'] + ' exist')\n",
    "    \n",
    "    return package_id\n",
    "\n",
    "def get_plan_id(pakcage_id, index=0):\n",
    "    pack = client.get_package(pakcage_id)\n",
    "    return pack['plans'][index]['planId']\n",
    "\n",
    "def get_ids(base_path, manifest, packages):\n",
    "    file_path = os.path.join(base_path, manifest)\n",
    "    package_id = create_package(file_path, packages)\n",
    "    plan_id = get_plan_id(package_id) \n",
    "    return {\n",
    "        'packageId': package_id,\n",
    "        'planId': plan_id        \n",
    "    }\n",
    "\n",
    "def wait_till_package_ready(package_id, retry_count=15, sleep_interval=6):\n",
    "    count = 0\n",
    "    while client.get_package(package_id)['status'] != 'Complete':\n",
    "        time.sleep(sleep_interval)\n",
    "        count+=1\n",
    "        if count > retry_count:\n",
    "            return False\n",
    "    return True\n",
    "\n",
    "\n",
    "packages = client.get_all_packages()\n",
    "# pprint(packages)\n",
    "\n",
    "pubsub_ids =    get_ids(base_path, pubsub_manifest ,packages)    "
   ]
  },
  {
   "cell_type": "markdown",
   "metadata": {},
   "source": [
    "#### 3.Deploy package"
   ]
  },
  {
   "cell_type": "code",
   "execution_count": null,
   "metadata": {},
   "outputs": [],
   "source": [
    "# Device Talker code snippet\n",
    "if not wait_till_package_ready(pubsub_ids['packageId'], retry_count, interval):\n",
    "    exit(0)\n",
    "package = client.get_package(pubsub_ids['packageId'])\n",
    "device = client.get_device(device_id)\n",
    "configuration = package.get_provision_configuration(pubsub_ids['planId'])\n",
    "configuration.add_device('listener', device)\n",
    "configuration.add_routed_networks(routed_networks)\n",
    "deployment = package.provision(deployment_name = \"talker-listener\",\n",
    "\t\t\t\t\t\tprovision_configuration = configuration)\n",
    "res = deployment.poll_deployment_till_ready(retry_count=retry_count, sleep_interval=interval)"
   ]
  },
  {
   "cell_type": "code",
   "execution_count": null,
   "metadata": {},
   "outputs": [],
   "source": []
  },
  {
   "cell_type": "markdown",
   "metadata": {},
   "source": [
    "#### 7.Deprovision all"
   ]
  },
  {
   "cell_type": "code",
   "execution_count": null,
   "metadata": {},
   "outputs": [],
   "source": [
    "deployment.deprovision()"
   ]
  },
  {
   "cell_type": "code",
   "execution_count": null,
   "metadata": {},
   "outputs": [],
   "source": []
  }
 ],
 "metadata": {
  "kernelspec": {
   "display_name": "Python 2",
   "language": "python",
   "name": "python2"
  },
  "language_info": {
   "codemirror_mode": {
    "name": "ipython",
    "version": 2
   },
   "file_extension": ".py",
   "mimetype": "text/x-python",
   "name": "python",
   "nbconvert_exporter": "python",
   "pygments_lexer": "ipython2",
   "version": "2.7.17"
  }
 },
 "nbformat": 4,
 "nbformat_minor": 2
}
